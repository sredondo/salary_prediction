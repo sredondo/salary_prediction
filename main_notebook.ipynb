{
 "cells": [
  {
   "cell_type": "markdown",
   "metadata": {},
   "source": [
    "# Salary Prediction Model - Data Science Challenge\n",
    "\n",
    "**Table of Contents**\n",
    "1. [Introduction](#introduction)\n",
    "2. [Data Loading and Exploration](#data-loading-and-exploration)\n",
    "3. [Data Cleaning and Preprocessing](#data-cleaning-and-preprocessing)\n",
    "4. [Feature Engineering](#feature-engineering)\n",
    "5. [Model Training](#model-training)\n",
    "6. [Model Evaluation](#model-evaluation)\n",
    "7. [Conclusion](#conclusion)"
   ]
  },
  {
   "cell_type": "markdown",
   "metadata": {},
   "source": [
    "<a id='introduction'></a>\n",
    "## 1. Introduction\n",
    "\n",
    "This notebook details the development of a predictive model for employee salaries. The goal is to forecast an individual's salary based on a dataset containing features like job title, company information, and employee demographics. This project is structured as a technical challenge for a Data Scientist role, emphasizing best practices in data science and machine learning."
   ]
  },
  {
   "cell_type": "markdown",
   "metadata": {},
   "source": [
    "<a id='data-loading-and-exploration'></a>\n",
    "## 2. Data Loading and Exploration\n",
    "\n",
    "First, we load the dataset and explore its basic structure and characteristics."
   ]
  },
  {
   "cell_type": "code",
   "execution_count": null,
   "metadata": {},
   "outputs": [],
   "source": [
    "import pandas as pd\n",
    "from src.data_loading import load_data\n",
    "\n",
    "# Load the dataset\n",
    "filepath = '../salary_prediction/data/salary_data.csv'\n",
    "df = load_data(filepath)\n",
    "\n",
    "# Display the first few rows and dataset info\n",
    "if df is not None:\n",
    "    print(\"\\nDataset Head:\")\n",
    "    print(df.head())\n",
    "    print(\"\\nDataset Information:\")\n",
    "    print(df.info())"
   ]
  },
  {
   "cell_type": "markdown",
   "metadata": {},
   "source": [
    "<a id='data-cleaning-and-preprocessing'></a>\n",
    "## 3. Data Cleaning and Preprocessing\n",
    "\n",
    "In this step, we handle missing data, remove duplicates, and prepare the data for feature engineering."
   ]
  },
  {
   "cell_type": "code",
   "execution_count": null,
   "metadata": {},
   "outputs": [],
   "source": [
    "from src.data_preprocessing import clean_data\n",
    "\n",
    "# Clean the data\n",
    "if df is not None:\n",
    "    cleaned_df = clean_data(df.copy())\n",
    "    print(\"\\nCleaned Data Head:\")\n",
    "    print(cleaned_df.head())\n",
    "    print(\"\\nCleaned Data Info:\")\n",
    "    print(cleaned_df.info())"
   ]
  },
  {
   "cell_type": "markdown",
   "metadata": {},
   "source": [
    "<a id='feature-engineering'></a>\n",
    "## 4. Feature Engineering\n",
    "\n",
    "Here, we engineer new features to potentially improve model performance. This includes creating an 'experience_level' feature from job titles."
   ]
  },
  {
   "cell_type": "code",
   "execution_count": null,
   "metadata": {},
   "outputs": [],
   "source": [
    "from src.data_preprocessing import engineer_features\n",
    "\n",
    "# Engineer features\n",
    "if df is not None:\n",
    "    engineered_df = engineer_features(cleaned_df.copy())\n",
    "    print(\"\\nEngineered Data Head:\")\n",
    "    print(engineered_df.head())\n",
    "    print(\"\\nEngineered Data Info:\")\n",
    "    print(engineered_df.info())"
   ]
  },
  {
   "cell_type": "markdown",
   "metadata": {},
   "source": [
    "<a id='model-training'></a>\n",
    "## 5. Model Training\n",
    "\n",
    "We train a RandomForestRegressor model and a DummyRegressor as a baseline for comparison."
   ]
  },
  {
   "cell_type": "code",
   "execution_count": null,
   "metadata": {},
   "outputs": [],
   "source": [
    "from src.model_training import train_random_forest_model, create_dummy_model\n",
    "from src.data_preprocessing import split_data\n",
    "\n",
    "# Split data into training and testing sets\n",
    "if df is not None:\n",
    "    X_train, X_test, y_train, y_test = split_data(engineered_df.copy())\n",
    "\n",
    "    # Train models\n",
    "    rf_model = train_random_forest_model(X_train, y_train)\n",
    "    dummy_model = create_dummy_model(X_train, y_train)\n",
    "\n",
    "    print(\"\\nRandom Forest Model:\", rf_model)\n",
    "    print(\"\\nDummy Model:\", dummy_model)"
   ]
  },
  {
   "cell_type": "markdown",
   "metadata": {},
   "source": [
    "<a id='model-evaluation'></a>\n",
    "## 6. Model Evaluation\n",
    "\n",
    "Evaluate the trained models using appropriate metrics, including confidence intervals for robust assessment."
   ]
  },
  {
   "cell_type": "code",
   "execution_count": null,
   "metadata": {},
   "outputs": [],
   "source": [
    "from src.model_evaluation import evaluate_model\n",
    "\n",
    "# Evaluate models\n",
    "if df is not None:\n",
    "    print(\"\\nEvaluating Random Forest Model:\")\n",
    "    rf_metrics = evaluate_model(rf_model, X_test, y_test)\n",
    "\n",
    "    print(\"\\nEvaluating Dummy Model:\")\n",
    "    dummy_metrics = evaluate_model(dummy_model, X_test, y_test)"
   ]
  },
  {
   "cell_type": "markdown",
   "metadata": {},
   "source": [
    "<a id='conclusion'></a>\n",
    "## 7. Conclusion\n",
    "\n",
    "Summarize the findings, compare the performance of the Random Forest model against the Dummy model, and discuss potential improvements and next steps."
   ]
  }
 ],
 "metadata": {
  "kernelspec": {
   "display_name": "Python 3",
   "language": "python",
   "name": "python3"
  },
  "language_info": {
   "codemirror_mode": {
    "name": "ipython",
    "version": 3
   },
   "file_extension": ".py",
   "mimetype": "text/x-python",
   "name": "python",
   "nbconvert_exporter": "python",
   "pygments_lexer": "ipython3",
   "version": "3.8.5"
  }
 },
 "nbformat": 4,
 "nbformat_minor": 4
}